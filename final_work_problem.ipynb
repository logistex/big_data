{
 "cells": [
  {
   "cell_type": "markdown",
   "metadata": {},
   "source": [
    "# 2020학년도 2학기 데이터시각화 과목 기말 과제 정의서"
   ]
  },
  {
   "cell_type": "markdown",
   "metadata": {},
   "source": [
    "- 과제 공개 날짜: 2020년 11월 26일 목요일\n",
    "- 제출 마감 날짜: 2020년 <b>12월 16일 수요일</b>\n",
    "- 제출 파일 내역 \n",
    "    - 쥬피터 노트북 파일 `final_work.ipynb`\n",
    "    - 데이터 파일 \n",
    "        - 범죄 데이터 파일 `crime_2019.txt`\n",
    "        - 인구 및 CCTV 데이터 파일 `pop_cctv_2018.csv`\n",
    "        - 기타 데이터 파일\n",
    "    - 장고 프로젝트 소스 코드 파일 압축 `django_project.zip`\n",
    "    - 파일 제출 시 유의 사항\n",
    "        - 파일은 반드시 위에서 지정한 이름으로 제출\n",
    "        - 파일 이름에 학번 및 이름 포함 금지 \n",
    "        - 장고 프로젝트 소스 코드 파일만 압축 파일로 제출\n",
    "        - 다른 파일은 압축 파일로 제출 금지"
   ]
  },
  {
   "cell_type": "markdown",
   "metadata": {},
   "source": [
    "- 본 과제 정의서에서 요구한 그림과 그림 제목이  \n",
    "모두 포함된 쥬피터 노트북 파일을 제출하세요.  \n",
    "본 과제 정의서와 그림 제목을 동일하게 지정하지 않으면  \n",
    "채점 대상에서 배제합니다.  \n",
    "- 쥬피터 노트북 파일은  \n",
    "반드시 `final_work.ipynb`라는 이름으로 제출하세요.  \n",
    "    - 파일 이름에 학번이나 이름을 절대로 넣지 마세요.  \n",
    "    - 압축 파일이 아닌 원본 파일로 제출하세요.  \n",
    "    - 압축 파일로 제출하거나,  \n",
    "      파일 이름이 다르면 채점 대상에서 배제합니다.  \n",
    "- 쥬피터 노트북의 내용은 두 부분으로 구성하세요.\n",
    "    - `과제 요약`\n",
    "        - 과제 정의서에서 예시한 문제와 그림이  \n",
    "          그림 제목과 함께 제시되어야 합니다.  \n",
    "        - `과제 요약`의 그림은  \n",
    "          `과제 처리 과정`의 코드를 실행한 결과로  \n",
    "          출력되는 그림을 캡쳐하여 사용하면 됩니다.\n",
    "    - `과제 처리 과정`에는  \n",
    "      그림의 산출 과정을 확인할 수 있도록  \n",
    "      주석이 포함된 코드를 제시해야 합니다.\n",
    "- `과제 요약` 부분에 캡쳐한 그림을 표시할 때,  \n",
    "  [깃허브 README.md 파일에 이미지 업로드 하기](https://hanee24.github.io/2017/12/21/how-to-upload-image-with-github-readme/)  \n",
    "  문서에서 설명하는 방법을 적용하세요.  \n",
    "    - 본인의 컴퓨터가 아닌 다른 컴퓨터에서도  \n",
    "      해당 그림이 표시되는지 반드시 확인하세요.  \n",
    "    - `과제 요약` 부분에 그림이 표시되지 않는다면,  \n",
    "      채점 대상에서 배제합니다.\n",
    "    - 본 과제 정의서에 포함된 예제 그림은  \n",
    "      의도적으로 부분적 마스킹 처리를 하였으나,  \n",
    "      여러분은 이렇게 하지 마세요.  \n",
    "- 과제 수행에 사용한 데이터 파일을 반드시 제출하세요.   \n",
    "    - 과제 정의서에서 지정한 이름을 반드시 사용하세요.  \n",
    "    - 이름이나 학번을 파일 이름에 포함하지 말아야 하며,  \n",
    "      압축 파일이 아닌 원본 파일로 제출하세요.\n",
    "- 장고 프로젝트를 구성하는 모든 소스 코드 파일은  \n",
    "  `django_project.zip`라는 이름의 단일 압축 파일로 제출하세요.  \n",
    "  압축 파일 형태로 제출하는 유일한 파일입니다. \n",
    "- 첨부한 `score.xlsx` 파일의 채점표 양식에  \n",
    "자가 채점 결과를 기입하여  \n",
    "엑셀 파일로 제출하세요.   \n",
    "- 제출할 파일\n",
    "    - `final_work.ipynb`\n",
    "    - `crime_2019.txt` \n",
    "    - `pop_cctv_2018.csv`\n",
    "    - `django_project.zip`(유일하게 압축 파일로 제출)\n",
    "    - `score.xlsx`\n",
    "- [문제 15]와 관련하여 다음 사항을 정확하게 기재하세요.\n",
    "    - 제출자의 깃허브 저장소 주소를  \n",
    "      https://github.com/your_id/your_repository_name  \n",
    "      형식으로 기재하되,  \n",
    "      'your_id' 및 'your_repository_name' 부분을  \n",
    "      자신의 주소로 정확하게 기재하세요.\n",
    "    - 제출자의 파이썬애니웨어 웹 사이트 주소를  \n",
    "        http://your_id.pythonanywhere.com/your_folder_name/your_covid19_url/  \n",
    "      형식으로 기재하되,  \n",
    "      'your_id', 'your_folder_name' 및 'your_covid19_url' 부분을  \n",
    "      자신의 주소로 정확하게 기재하세요.\n",
    "    - 평가 시점에 기재한 웹 주소로 접속하여  \n",
    "      연결이 되지 않으면  \n",
    "      채점 대상에서 제외합니다.  \n"
   ]
  },
  {
   "cell_type": "markdown",
   "metadata": {
    "collapsed": true,
    "pycharm": {
     "name": "#%% md\n"
    }
   },
   "source": [
    "##  과제 요약"
   ]
  },
  {
   "cell_type": "markdown",
   "metadata": {
    "collapsed": true,
    "heading_collapsed": true,
    "pycharm": {
     "name": "#%% md\n"
    }
   },
   "source": [
    "### [문제 1] 범죄 데이터 획득\n",
    "<그림 D1> 'crime_2019.txt' 데이터 파일의 모습\n",
    "![crime_2019 txt](https://user-images.githubusercontent.com/10287629/100096281-27f55780-2e9f-11eb-8096-66df9c6e27f2.png)"
   ]
  },
  {
   "cell_type": "markdown",
   "metadata": {
    "collapsed": true,
    "pycharm": {
     "name": "#%% md\n"
    }
   },
   "source": [
    "### [문제 2] 범죄 데이터프레임 정리\n",
    "<그림 D2> crime_2019 데이터프레임의 내용\n",
    "![df_crime_2019](https://user-images.githubusercontent.com/10287629/100096285-29268480-2e9f-11eb-82ab-22160f58f223.png)"
   ]
  },
  {
   "cell_type": "markdown",
   "metadata": {
    "collapsed": true,
    "pycharm": {
     "name": "#%% md\n"
    }
   },
   "source": [
    "### [문제 3] 범죄 발생 건수 정규화\n",
    "<그림 D3> 범죄 발생 건수를 자치구별 상대적 수치로 정규화한 결과\n",
    "![df_crime_2019_norm](https://user-images.githubusercontent.com/10287629/100096286-29268480-2e9f-11eb-85ac-e0d0ee6e8339.png)"
   ]
  },
  {
   "cell_type": "markdown",
   "metadata": {
    "collapsed": true,
    "pycharm": {
     "name": "#%% md\n"
    }
   },
   "source": [
    "### [문제 4] 범죄 발생 비율 계산\n",
    "<그림 D4> 범죄 발생 건수를 자치구별 (인구 십만 명 당) 비율로 계산한 결과\n",
    "![df_crime_2019_per_capita](https://user-images.githubusercontent.com/10287629/100096288-29bf1b00-2e9f-11eb-98e2-64f059d9d543.png)"
   ]
  },
  {
   "cell_type": "markdown",
   "metadata": {
    "collapsed": true,
    "pycharm": {
     "name": "#%% md\n"
    }
   },
   "source": [
    "### [문제 5] 구청 좌표 획득\n",
    "<그림 D5> 구글 지도 API를 활용하여 획득한 구청 좌표\n",
    "![office_location](https://user-images.githubusercontent.com/10287629/100096310-2d52a200-2e9f-11eb-983a-6a87a9513daf.png)"
   ]
  },
  {
   "cell_type": "markdown",
   "metadata": {
    "collapsed": true,
    "pycharm": {
     "name": "#%% md\n"
    }
   },
   "source": [
    "### [문제 6] 범죄 발생 시각화\n",
    "<그림 A1> 정규화된 범죄 발생 지표의 히트맵\n",
    "![normalized_crime](https://user-images.githubusercontent.com/10287629/100096309-2cba0b80-2e9f-11eb-8f40-9530cb331086.png)"
   ]
  },
  {
   "cell_type": "markdown",
   "metadata": {
    "collapsed": true,
    "pycharm": {
     "name": "#%% md\n"
    }
   },
   "source": [
    "### [문제 7] 범죄 검거 시각화\n",
    "<그림 A2> 범죄 검거율의 히트맵\n",
    "![normalized_arrest](https://user-images.githubusercontent.com/10287629/100096308-2cba0b80-2e9f-11eb-9a97-9b90518857e9.png)"
   ]
  },
  {
   "cell_type": "markdown",
   "metadata": {
    "collapsed": true,
    "pycharm": {
     "name": "#%% md\n"
    }
   },
   "source": [
    "### [문제 8] 범죄 간 상관성 분석\n",
    "<그림 A3> 범죄 간 상관계수 히트맵\n",
    "![hm_crime_corr](https://user-images.githubusercontent.com/10287629/100096296-2af04800-2e9f-11eb-9ed6-bd2a2b14851f.png)\n"
   ]
  },
  {
   "cell_type": "markdown",
   "metadata": {
    "collapsed": true,
    "pycharm": {
     "name": "#%% md\n"
    }
   },
   "source": [
    "### [문제 9] 인구/CCTV 및 범죄 상관성 분석\n",
    "<그림 A4> 인구/CCTV 및 범죄 발생 간 상관계수 히트맵\n",
    "![hm_crime](https://user-images.githubusercontent.com/10287629/100096295-2af04800-2e9f-11eb-87d8-4b0285cb5cc9.png)\n"
   ]
  },
  {
   "cell_type": "markdown",
   "metadata": {
    "collapsed": true,
    "pycharm": {
     "name": "#%% md\n"
    }
   },
   "source": [
    "### [문제 10] 인구/CCTV 및 검거 상관성 분석\n",
    "<그림 A5> 인구/CCTV 및 범죄 검거 간 상관계수 히트맵\n",
    "![hm_arrest](https://user-images.githubusercontent.com/10287629/100096293-2a57b180-2e9f-11eb-8319-398c237b84ca.png)"
   ]
  },
  {
   "cell_type": "markdown",
   "metadata": {
    "collapsed": true,
    "pycharm": {
     "name": "#%% md\n"
    }
   },
   "source": [
    "### [문제 11] 살인 건수 시각화\n",
    "<그림 F1> 살인 건수 단계구분도\n",
    "![murder_case](https://user-images.githubusercontent.com/10287629/100096303-2c217500-2e9f-11eb-8008-8aa0598c7720.png)\n"
   ]
  },
  {
   "cell_type": "markdown",
   "metadata": {
    "collapsed": true,
    "pycharm": {
     "name": "#%% md\n"
    }
   },
   "source": [
    "### [문제 12] 살인 비율 시각화\n",
    "<그림 F2> 살인 비율 단계구분도\n",
    "![murder_rate](https://user-images.githubusercontent.com/10287629/100096304-2c217500-2e9f-11eb-937a-94bb21b67825.png)\n"
   ]
  },
  {
   "cell_type": "markdown",
   "metadata": {
    "collapsed": true,
    "pycharm": {
     "name": "#%% md\n"
    }
   },
   "source": [
    "### [문제 13] 검거율 및 살인 비율 시각화\n",
    "<그림 F3> 검거율 및 살인 비율 단계구분도\n",
    "![murder_both](https://user-images.githubusercontent.com/10287629/100096299-2b88de80-2e9f-11eb-9d68-d32271ebbae7.png)\n"
   ]
  },
  {
   "cell_type": "markdown",
   "metadata": {
    "collapsed": true,
    "pycharm": {
     "name": "#%% md\n"
    }
   },
   "source": [
    "### [문제 14] 로컬 호스트에서 Covid19  시각화\n",
    "<그림 V1> 로컬 호스트에서 Covid19 시각화\n",
    "![django_covid19_local](https://user-images.githubusercontent.com/10287629/100096292-2a57b180-2e9f-11eb-83e3-142d44849393.png)"
   ]
  },
  {
   "cell_type": "markdown",
   "metadata": {
    "collapsed": true,
    "pycharm": {
     "name": "#%% md\n"
    }
   },
   "source": [
    "### [문제 15] 리모트 서버에서 Covid19  시각화\n",
    "\n",
    "- 제출자의 깃허브 저장소 주소: `https://github.com/your_id/your_repository_name\n",
    "`  \n",
    "- 제출자의 파이썬애니웨어 웹 사이트 주소: `http://your_id.pythonanywhere.com/your_folder_name/your_covid19_url/`\n",
    "\n",
    "<그림 V2> 리모트 서버에서 Covid19 시각화\n",
    "![django_covid19](https://user-images.githubusercontent.com/10287629/100096289-29bf1b00-2e9f-11eb-9237-7574d85a08ea.png)\n"
   ]
  },
  {
   "cell_type": "markdown",
   "metadata": {},
   "source": [
    "### [문제 16] 수강 소감\n",
    "- 수강 소감을 써 주세요.\n",
    "- 구체적으로, 상세하게, 내용을 구분하여 써 주세요."
   ]
  },
  {
   "cell_type": "markdown",
   "metadata": {
    "collapsed": true,
    "pycharm": {
     "name": "#%% md\n"
    }
   },
   "source": [
    "## 과제 처리 과정"
   ]
  },
  {
   "cell_type": "markdown",
   "metadata": {
    "collapsed": true,
    "pycharm": {
     "name": "#%% md\n"
    }
   },
   "source": [
    "### [문제 1] 범죄 데이터 획득\n",
    "[서울시 5대 범죄 발생현황 통계 사이트](https://data.seoul.go.kr/dataList/316/C/2/datasetView.do;jsessionid=C0811155A7A7C8BF6EA9951D187734AF.new_portal-svr-11)에서\n",
    "- 2019년도 범죄 자료를 TXT 형식의 파일로 다운로드하여\n",
    "- 파일 이름을 `crime_2019.txt`으로 저장하고,\n",
    "- Notepad++ 프로그램에서 `보기 > 공백과 탭 표시` 상태로 열어 본 모습을\n",
    "- <그림 D1>과 같이 제시하세요.\n",
    "- 특히 Notepad++ 프로그램에서 `보기 > 공백과 탭 표시` 상태로 처리하여  \n",
    "파일 내부에 포함된 탭이 표시되도록 한 상태에서 화면을 캡쳐하세요.\n",
    "\n",
    "<그림 D1> 'crime_2019.txt' 데이터 파일의 모습\n",
    "![crime_2019 txt](https://user-images.githubusercontent.com/10287629/100096281-27f55780-2e9f-11eb-8096-66df9c6e27f2.png)"
   ]
  },
  {
   "cell_type": "markdown",
   "metadata": {
    "collapsed": true,
    "pycharm": {
     "name": "#%% md\n"
    }
   },
   "source": [
    "### [문제 2] 범죄 데이터프레임 정리\n",
    "- [문제 1]에서 획득한 `crime_2019.txt` 파일을 읽어서\n",
    "- `crime_2019` 데이터프레임에 저장하고\n",
    "- 교재 1장에서 다루었던,   \n",
    "'인구 규모 2018', 'CCTV 규모 2018' 자료가 저장된 csv 파일을 활용하여\n",
    "- 적절한 처리 과정을 거처서 <그림 D2>와 같이 정제\n",
    "\n",
    "<그림 D2> crime_2019 데이터프레임의 내용\n",
    "![df_crime_2019](https://user-images.githubusercontent.com/10287629/100096285-29268480-2e9f-11eb-82ab-22160f58f223.png)"
   ]
  },
  {
   "cell_type": "markdown",
   "metadata": {
    "collapsed": true,
    "pycharm": {
     "name": "#%% md\n"
    }
   },
   "source": [
    "### [문제 3] 범죄 발생 건수 정규화\n",
    "- `crime_2019`  데이터프레임에서 범죄 발생 수치를\n",
    "- 자치구 간의 상대적 수치인 (0, 1) 범위로 정규화하여,\n",
    "- `crime_2019_norm` 데이터프레임으로 저장\n",
    "\n",
    "<그림 D3> 범죄 발생 건수를 자치구별 상대적 수치로 정규화한 결과\n",
    "![df_crime_2019_norm](https://user-images.githubusercontent.com/10287629/100096286-29268480-2e9f-11eb-85ac-e0d0ee6e8339.png)"
   ]
  },
  {
   "cell_type": "markdown",
   "metadata": {
    "collapsed": true,
    "pycharm": {
     "name": "#%% md\n"
    }
   },
   "source": [
    "### [문제 4] 범죄 발생 비율 계산\n",
    "\n",
    "- `crime_2019` 데이터프레임의  \n",
    "- 범죄 건수에 인구 자료를 적용하여 \n",
    "- `crime_2019_per_capita`에 <그림 D4>와 같이\n",
    "- 인구 십만 명 당 범죄 발생 비율을 저장\n",
    "\n",
    "<그림 D4> 범죄 발생 건수를 자치구별 (인구 십만 명 당) 비율로 계산한 결과\n",
    "![df_crime_2019_per_capita](https://user-images.githubusercontent.com/10287629/100096288-29bf1b00-2e9f-11eb-98e2-64f059d9d543.png)"
   ]
  },
  {
   "cell_type": "markdown",
   "metadata": {
    "collapsed": true,
    "pycharm": {
     "name": "#%% md\n"
    }
   },
   "source": [
    "### [문제 5] 구청 좌표 획득\n",
    "\n",
    "- `crime_2019` 데이터프레임의 자료를 활용하여 \n",
    "- 구청의 좌표를 획득하고\n",
    "- `office` 데이터프레임에 저장\n",
    "\n",
    "<그림 D5> 구글 지도 API를 활용하여 획득한 구청 좌표\n",
    "![office_location](https://user-images.githubusercontent.com/10287629/100096310-2d52a200-2e9f-11eb-983a-6a87a9513daf.png)"
   ]
  },
  {
   "cell_type": "markdown",
   "metadata": {
    "collapsed": true,
    "pycharm": {
     "name": "#%% md\n"
    }
   },
   "source": [
    "### [문제 6] 범죄 발생 시각화\n",
    "\n",
    "- `crime_2019_norm` 데이터프레임을 활용하여\n",
    "- 정규화 범죄 지표의 합계를 기준으로 정렬하고\n",
    "- 정규화된 범죄 발생 건수로 heatmap 작성\n",
    "\n",
    "<그림 A1> 정규화된 범죄 발생 지표의 히트맵\n",
    "![normalized_crime](https://user-images.githubusercontent.com/10287629/100096309-2cba0b80-2e9f-11eb-8f40-9530cb331086.png)"
   ]
  },
  {
   "cell_type": "markdown",
   "metadata": {
    "collapsed": true,
    "pycharm": {
     "name": "#%% md\n"
    }
   },
   "source": [
    "### [문제 7] 범죄 검거 시각화\n",
    "\n",
    "- `crime_2019` 데이터프레임을 활용하여\n",
    "- 검거율 합계를 기준으로 정렬하고\n",
    "- 범죄 검거율로 heatmap 작성\n",
    "\n",
    "<그림 A2> 범죄 검거율의 히트맵\n",
    "![normalized_arrest](https://user-images.githubusercontent.com/10287629/100096308-2cba0b80-2e9f-11eb-9a97-9b90518857e9.png)"
   ]
  },
  {
   "cell_type": "markdown",
   "metadata": {
    "collapsed": true,
    "pycharm": {
     "name": "#%% md\n"
    }
   },
   "source": [
    "### [문제 8] 범죄 간 상관성 분석\n",
    "\n",
    "- 5종 범죄 발생 건수 간의 상관계수를 구하고\n",
    "- 히트맵으로 시각화\n",
    "\n",
    "<그림 A3> 범죄 간 상관계수 히트맵\n",
    "![hm_crime_corr](https://user-images.githubusercontent.com/10287629/100096296-2af04800-2e9f-11eb-9ed6-bd2a2b14851f.png)"
   ]
  },
  {
   "cell_type": "markdown",
   "metadata": {
    "collapsed": true,
    "pycharm": {
     "name": "#%% md\n"
    }
   },
   "source": [
    "### [문제 9] 인구/CCTV 및 범죄 상관성 분석\n",
    "\n",
    "- 인구 및 CCTV 규모와 5종 범죄 발생 건수의 상관계수를 구하고\n",
    "- 히트맵으로 시각화\n",
    "\n",
    "<그림 A4> 인구/CCTV 및 범죄 발생 간 상관계수 히트맵\n",
    "![hm_crime](https://user-images.githubusercontent.com/10287629/100096295-2af04800-2e9f-11eb-87d8-4b0285cb5cc9.png)\n"
   ]
  },
  {
   "cell_type": "markdown",
   "metadata": {
    "collapsed": true,
    "pycharm": {
     "name": "#%% md\n"
    }
   },
   "source": [
    "### [문제 10] 인구/CCTV 및 검거 상관성 분석\n",
    "\n",
    "- 인구 및 CCTV 규모와 5종 범죄 검거율의 상관계수를 구하고\n",
    "- 히트맵으로 시각화\n",
    "\n",
    "<그림 A5> 인구/CCTV 및 범죄 검거 간 상관계수 히트맵\n",
    "![hm_arrest](https://user-images.githubusercontent.com/10287629/100096293-2a57b180-2e9f-11eb-8319-398c237b84ca.png)"
   ]
  },
  {
   "cell_type": "markdown",
   "metadata": {
    "collapsed": true,
    "pycharm": {
     "name": "#%% md\n"
    }
   },
   "source": [
    "### [문제 11] 살인 건수 시각화\n",
    "\n",
    "- 살인 발생 건수를 기준으로 단계구분도 시각화\n",
    "- 구청 위치 근방에 자치구 이름 출력\n",
    "- 자치구 이름 밑에 살인 발생 건수 및 정규화 수치를 표시하되, \n",
    "- \"<b>살인 발생 건수</b>(정규화 수치)\" 형식으로 출력\n",
    "\n",
    "<그림 F1> 살인 건수 단계구분도\n",
    "![murder_case](https://user-images.githubusercontent.com/10287629/100096303-2c217500-2e9f-11eb-8008-8aa0598c7720.png)"
   ]
  },
  {
   "cell_type": "markdown",
   "metadata": {
    "collapsed": true,
    "pycharm": {
     "name": "#%% md\n"
    }
   },
   "source": [
    "### [문제 12] 살인 비율 시각화\n",
    "\n",
    "- 인구 10만 명 당 살인 발생 비율을 기준으로 단계구분도 시각화\n",
    "- 구청 위치 근방에 자치구 이름 출력\n",
    "- 자치구 이름 밑에 살인 발생 비율 및 정규화 수치를 표시하되, \n",
    "- \"<b>살인 발생 비율</b>(정규화 수치)\" 형식으로 출력\n",
    "\n",
    "<그림 F2> 살인 비율 단계구분도\n",
    "![murder_rate](https://user-images.githubusercontent.com/10287629/100096304-2c217500-2e9f-11eb-937a-94bb21b67825.png)"
   ]
  },
  {
   "cell_type": "markdown",
   "metadata": {
    "collapsed": true,
    "pycharm": {
     "name": "#%% md\n"
    }
   },
   "source": [
    "### [문제 13] 검거율 및 살인 비율 시각화\n",
    "\n",
    "- 인구 10만 명 당 살인 발생 비율을 기준으로 단계구분도 시각화\n",
    "- 구청 위치 근방에 자치구 이름 출력\n",
    "- 자치구 이름 밑에 살인 발생 비율 및 정규화 수치를 표시하되, \n",
    "- \"<b>살인 발생 비율</b>(정규화 수치)\" 형식으로 출력\n",
    "- 검거율에 비례하는 면적으로 구청 위치를 중심으로 원 표시\n",
    "- 원을 클릭하면 검거율 정보를 팦업으로 출력\n",
    "\n",
    "<그림 F3> 검거율 및 살인 비율 단계구분도\n",
    "![murder_both](https://user-images.githubusercontent.com/10287629/100096299-2b88de80-2e9f-11eb-9d68-d32271ebbae7.png)"
   ]
  },
  {
   "cell_type": "markdown",
   "metadata": {
    "collapsed": true,
    "pycharm": {
     "name": "#%% md\n"
    }
   },
   "source": [
    "### [문제 14] 로컬 호스트에서 Covid19  시각화\n",
    "\n",
    "- Covid19 확진자 발생 현황을 시각화\n",
    "- 장고 웹 프레임워크와 Highchart 라이브러리를 활용\n",
    "- 브라우저 주소창을 확인할 수 있도록 캡쳐하여 제시해야 함\n",
    "\n",
    "<그림 V1> 로컬 호스트에서 Covid19 시각화\n",
    "![django_covid19_local](https://user-images.githubusercontent.com/10287629/100096292-2a57b180-2e9f-11eb-83e3-142d44849393.png)"
   ]
  },
  {
   "cell_type": "markdown",
   "metadata": {
    "collapsed": true,
    "pycharm": {
     "name": "#%% md\n"
    }
   },
   "source": [
    "### [문제 15] 리모트 서버에서 Covid19  시각화\n",
    "\n",
    "- 제출자의 배포 관련 주소\n",
    "    - 제출자의 깃허브 저장소 주소: `https://github.com/your_id/your_repository_name\n",
    "    `  \n",
    "    - 제출자의 파이썬애니웨어 웹 사이트 주소: `http://your_id.pythonanywhere.com/your_folder_name/your_covid19_url/`\n",
    "\n",
    "- Covid19 확진자 발생 현황을 시각화\n",
    "- 장고 웹 프레임워크와 Highchart 라이브러리를 활용\n",
    "- pythonanywhere.com 서버 등을 활용하여 웹에 배포해야 함\n",
    "- 브라우저 주소창을 확인할 수 있도록 캡쳐하여 제시해야 함\n",
    "\n",
    "<그림 V2> 리모트 서버에서 Covid19 시각화\n",
    "![django_covid19](https://user-images.githubusercontent.com/10287629/100096289-29bf1b00-2e9f-11eb-9237-7574d85a08ea.png)"
   ]
  },
  {
   "cell_type": "markdown",
   "metadata": {},
   "source": [
    "###  [문제 16] 수강 소감\n",
    "\n",
    "- `과제 요약` 부분에 작성하고 \n",
    "- `과제 처리 과정` 부분에는 작성하지 마세요."
   ]
  }
 ],
 "metadata": {
  "kernelspec": {
   "display_name": "Python 3",
   "language": "python",
   "name": "python3"
  },
  "language_info": {
   "codemirror_mode": {
    "name": "ipython",
    "version": 3
   },
   "file_extension": ".py",
   "mimetype": "text/x-python",
   "name": "python",
   "nbconvert_exporter": "python",
   "pygments_lexer": "ipython3",
   "version": "3.8.6"
  },
  "toc": {
   "base_numbering": 1,
   "nav_menu": {},
   "number_sections": true,
   "sideBar": true,
   "skip_h1_title": true,
   "title_cell": "Table of Contents",
   "title_sidebar": "Contents",
   "toc_cell": false,
   "toc_position": {},
   "toc_section_display": true,
   "toc_window_display": true
  },
  "varInspector": {
   "cols": {
    "lenName": 16,
    "lenType": 16,
    "lenVar": 40
   },
   "kernels_config": {
    "python": {
     "delete_cmd_postfix": "",
     "delete_cmd_prefix": "del ",
     "library": "var_list.py",
     "varRefreshCmd": "print(var_dic_list())"
    },
    "r": {
     "delete_cmd_postfix": ") ",
     "delete_cmd_prefix": "rm(",
     "library": "var_list.r",
     "varRefreshCmd": "cat(var_dic_list()) "
    }
   },
   "types_to_exclude": [
    "module",
    "function",
    "builtin_function_or_method",
    "instance",
    "_Feature"
   ],
   "window_display": false
  }
 },
 "nbformat": 4,
 "nbformat_minor": 1
}
